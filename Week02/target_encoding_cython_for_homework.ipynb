{
  "nbformat": 4,
  "nbformat_minor": 0,
  "metadata": {
    "colab": {
      "name": "target_encoding_cython_for homework.ipynb",
      "provenance": []
    },
    "kernelspec": {
      "name": "python3",
      "display_name": "Python 3"
    }
  },
  "cells": [
    {
      "cell_type": "markdown",
      "metadata": {
        "id": "AQy_4LhgXvJ6"
      },
      "source": [
        "\r\n",
        "**目标：将python语言全部转为Cython语言，不使用python的数据类型，不使用Python的feature**\r\n",
        "\r\n",
        "**一共实现了3个版本，相关说明如下：**\r\n",
        "\r\n",
        "**V7版本说明：**\r\n",
        "\r\n",
        "1、将DataFrame转为memoryview，memoryview的速率比np.ndarray要快很多\r\n",
        "\r\n",
        "2、使用C++的map代替了dict，也可以用unordered_map，经测试map较快\r\n",
        "\r\n",
        "3、将结果保存在memoryview中，比保存在vector中要快一些\r\n",
        "\r\n",
        "4、如果不考虑异常数据，也可以用两个一维数组实现map的功能，用一维数组的话可以省略if判断的过程\r\n",
        "\r\n",
        "**V8版本说明：**\r\n",
        "\r\n",
        "1、在V7版本的基础上，实现了并行\r\n",
        "\r\n",
        "2、将此处的map转为两个一维数据实现，避免if else过程出现race condition的问题，但是这此过程使用并行，会使结果变慢\r\n",
        "\r\n",
        "3、选择合适的位置进行并行，并行可能导致程序变慢，需要注意\r\n",
        "\r\n",
        "**V9版本说明：**\r\n",
        "\r\n",
        "1、在V7版本的基础上，做了多种异常判断\r\n",
        "\r\n",
        "2、对于数据的输入类型进行判断，当输入为的dataframe中数据为int或float时，分别进行处理\r\n",
        "\r\n",
        "3、对于data中的类别(x)，在使用map前，转换为string，避免np.nan等问题，同时考虑了空值的异常处理。此时不能使用两个一组数组代替map，不然索引会出问题\r\n",
        "\r\n",
        "4、由于增加了异常判断，执行时间大大增加\r\n",
        "\r\n",
        "\r\n"
      ]
    },
    {
      "cell_type": "code",
      "metadata": {
        "id": "-z_MELVoIKr7"
      },
      "source": [
        "%load_ext Cython"
      ],
      "execution_count": 1,
      "outputs": []
    },
    {
      "cell_type": "code",
      "metadata": {
        "id": "BokPfwtzIUxE"
      },
      "source": [
        "import numpy as np\r\n",
        "import pandas as pd\r\n",
        "\r\n",
        "def target_mean_v1(data, y_name, x_name):\r\n",
        "    result = np.zeros(data.shape[0])\r\n",
        "    for i in range(data.shape[0]):\r\n",
        "        groupby_result = data[data.index != i].groupby([x_name], as_index=False).agg(['mean', 'count'])\r\n",
        "        result[i] = groupby_result.loc[groupby_result.index == data.loc[i, x_name], (y_name, 'mean')]\r\n",
        "    return result"
      ],
      "execution_count": 2,
      "outputs": []
    },
    {
      "cell_type": "code",
      "metadata": {
        "id": "1QhRGu5bIVtb"
      },
      "source": [
        "def target_mean_v2(data, y_name, x_name):\r\n",
        "    result = np.zeros(data.shape[0])\r\n",
        "    value_dict = dict()\r\n",
        "    count_dict = dict()\r\n",
        "    for i in range(data.shape[0]):\r\n",
        "        if data.loc[i, x_name] not in value_dict.keys():\r\n",
        "            value_dict[data.loc[i, x_name]] = data.loc[i, y_name]\r\n",
        "            count_dict[data.loc[i, x_name]] = 1\r\n",
        "        else:\r\n",
        "            value_dict[data.loc[i, x_name]] += data.loc[i, y_name]\r\n",
        "            count_dict[data.loc[i, x_name]] += 1\r\n",
        "    for i in range(data.shape[0]):\r\n",
        "        result[i] = (value_dict[data.loc[i, x_name]] - data.loc[i, y_name]) / (count_dict[data.loc[i, x_name]] - 1)\r\n",
        "    return result"
      ],
      "execution_count": 3,
      "outputs": []
    },
    {
      "cell_type": "markdown",
      "metadata": {
        "id": "A1qFR0NIPeU8"
      },
      "source": [
        "**V7版本说明：** \r\n",
        "\r\n",
        "目标：将python语言全部转为Cython语言，不使用python的数据类型，不使用Python函数\r\n",
        "\r\n",
        "举措：\r\n",
        "\r\n",
        "1、将DataFrame转为memoryview，memoryview的速率比np.ndarray要快很多\r\n",
        "\r\n",
        "2、使用C++的map代替了dict，也可以用unordered_map，经测试map较快\r\n",
        "\r\n",
        "3、将结果保存在memoryview中，比保存在vector中要快一些\r\n",
        "\r\n",
        "4、如果不考虑异常数据，也可以用两个一维数组实现map的功能，用一维数组的话可以省略if判断的过程"
      ]
    },
    {
      "cell_type": "code",
      "metadata": {
        "id": "h7jV3CNtIVwO"
      },
      "source": [
        "%%cython  --cplus \r\n",
        "import numpy as np\r\n",
        "cimport numpy as np\r\n",
        "import pandas as pd\r\n",
        "from libcpp.unordered_map cimport unordered_map\r\n",
        "cimport cython\r\n",
        "from libcpp.map cimport map\r\n",
        "\r\n",
        "\r\n",
        "@cython.boundscheck(False)\r\n",
        "@cython.wraparound(False)\r\n",
        "cpdef target_mean_v7(data,int y,int x):\r\n",
        "  #cdef np.ndarray[double, ndim=2, mode='fortran'] data_c = np.asfortranarray(data, dtype=np.float64)\r\n",
        "  cdef long[:,:] data_c=data.values\r\n",
        "  cdef int i=0\r\n",
        "  cdef int start=0\r\n",
        "  cdef int shape=data_c.shape[0]\r\n",
        "  cdef int step=1\r\n",
        "\r\n",
        "  cdef map[int, float] m_value\r\n",
        "  cdef map[int, int] m_count\r\n",
        "  cdef double[:] result_c = np.zeros(shape, dtype=np.float64)\r\n",
        "\r\n",
        "  for i from start <= i < shape by step:\r\n",
        "    if m_value.count(data_c[i, x]):\r\n",
        "      m_value[data_c[i, x]] += data_c[i, y]\r\n",
        "      m_count[data_c[i, x]] += 1\r\n",
        "    else:\r\n",
        "      m_value[data_c[i, x]] = data_c[i, y]\r\n",
        "      m_count[data_c[i, x]] = 1\r\n",
        "  for i from start <= i < shape by step:\r\n",
        "      result_c[i] = (m_value[data_c[i, x]] - data_c[i, y]) / (m_count[data_c[i, x]] - 1)\r\n",
        "  return result_c"
      ],
      "execution_count": 60,
      "outputs": []
    },
    {
      "cell_type": "markdown",
      "metadata": {
        "id": "uPbRpInXQCtA"
      },
      "source": [
        "**V8版本说明：** \r\n",
        "\r\n",
        "1、在V7版本的基础上，实现了并行\r\n",
        "\r\n",
        "2、将此处的map转为两个一维数据实现，避免if else过程出现race condition的问题，但是这此过程使用并行，会使结果变慢\r\n",
        "\r\n",
        "3、选择合适的位置进行并行，并行可能导致程序变慢，需要注意"
      ]
    },
    {
      "cell_type": "code",
      "metadata": {
        "id": "P9-5t7ueIVy7"
      },
      "source": [
        "%%cython --cplus  --compile-args=-fopenmp  --link-args=-fopenmp \r\n",
        "import numpy as np\r\n",
        "cimport numpy as np\r\n",
        "import pandas as pd\r\n",
        "from libcpp.unordered_map cimport unordered_map\r\n",
        "from libcpp.vector cimport vector\r\n",
        "from libcpp.map cimport map\r\n",
        "import cython\r\n",
        "cimport cython\r\n",
        "from cython.parallel cimport prange,parallel\r\n",
        "\r\n",
        "@cython.boundscheck(False)\r\n",
        "@cython.wraparound(False)\r\n",
        "cpdef target_mean_v8(data,int y,int x):\r\n",
        "  #cdef np.ndarray[double, ndim=2, mode='fortran'] data_c = np.asfortranarray(data, dtype=np.float64)\r\n",
        "  cdef long[:,:] data_c=data.values  #memoryview速度超过cnp\r\n",
        "  cdef int i=0\r\n",
        "  cdef int start=0\r\n",
        "  cdef int shape=data_c.shape[0]\r\n",
        "  cdef int step=1    # range可以直接用，range的速度稍稍超过 for i from start<=i <shape by step 种写法，不知为什么\r\n",
        "\r\n",
        "  cdef double[:] m_value=np.zeros(10)\r\n",
        "  cdef double[:] m_count=np.zeros(10)  \r\n",
        "  cdef double[:] result_c = np.zeros(shape, dtype=np.float)   #视图比np.ndarray快一些\r\n",
        "\r\n",
        "\r\n",
        "  for i from start <= i < shape by step:  #此处并行，会导致结果变慢2us，故不在此处并行\r\n",
        "      m_value[data_c[i, x]] += data_c[i, y]\r\n",
        "      m_count[data_c[i, x]] += 1\r\n",
        "  for i in prange(shape,nogil=True):  \r\n",
        "    result_c[i]=(m_value[data_c[i, x]] - data_c[i, y]) / (m_count[data_c[i, x]] - 1)\r\n",
        "  return result_c"
      ],
      "execution_count": 59,
      "outputs": []
    },
    {
      "cell_type": "markdown",
      "metadata": {
        "id": "Elt4TKJDQr9G"
      },
      "source": [
        "**V9版本说明：** \r\n",
        "\r\n",
        "1、在V7版本的基础上，做了多种异常判断\r\n",
        "\r\n",
        "2、对于数据的输入类型进行判断，当输入为的dataframe中数据为int或float时，分别进行处理\r\n",
        "\r\n",
        "3、对于data中的类别(x)，在使用map前，转换为string，避免np.nan等问题，同时考虑了空值的异常处理。此时不能使用两个一组数组代替map，不然索引会出问题\r\n",
        "\r\n",
        "4、由于增加了异常判断，执行时间大大增加"
      ]
    },
    {
      "cell_type": "code",
      "metadata": {
        "id": "7rdzwpiIIV1-"
      },
      "source": [
        "%%cython  --cplus  --compile-args=-fopenmp  --link-args=-fopenmp\r\n",
        "import numpy as np\r\n",
        "cimport numpy as np\r\n",
        "import pandas as pd\r\n",
        "from libcpp.unordered_map cimport unordered_map\r\n",
        "from libcpp.vector cimport vector\r\n",
        "from libcpp.map cimport map\r\n",
        "import cython\r\n",
        "cimport cython\r\n",
        "from cython.parallel cimport prange,parallel\r\n",
        "from libcpp.string cimport string\r\n",
        "\r\n",
        "@cython.boundscheck(False)\r\n",
        "@cython.wraparound(False)\r\n",
        "cpdef target_mean_v9(data,int y,int x):\r\n",
        "\r\n",
        "\r\n",
        "  #进行data的类型判断，当data中存在np.nan时，类型为double，当全为Int时，类型为long,需要转换一下，如果是object类型，可能需要单独写一个循环来处理（可以和异常值处理写在一起，暂不实现）\r\n",
        "  if data.iloc[:,x].dtypes==np.int:\r\n",
        "    data.iloc[:,x]=data.iloc[:,x].astype(np.float32)\r\n",
        "  \r\n",
        "  cdef float[:] data_x=data.iloc[:,1].values\r\n",
        "  cdef long[:] data_y=data.iloc[:,0].values  #memoryview速度超过cnp\r\n",
        "  cdef int i=0\r\n",
        "  cdef int start=0\r\n",
        "  cdef int shape=data_y.shape[0]\r\n",
        "  cdef int step=1    # range可以直接用，range的速度稍稍超过 for i from start<=i <shape by step 写法，不知为什么\r\n",
        "\r\n",
        "  cdef map[string, float] m_value\r\n",
        "  cdef map[string, int] m_count  #速度比unordered_map快，unordered_map比dict快，dict比网上找的一些字典快\r\n",
        "  cdef double[:] result_c = np.zeros(shape, dtype=np.float)   #视图比np.ndarray快一些\r\n",
        "  cdef vector[string] value_array     #不如视图快\r\n",
        "  cdef string key\r\n",
        "  cdef int value_y\r\n",
        "\r\n",
        "  for i from start <= i < shape by step:\r\n",
        "\r\n",
        "    # x 异常值处理，空值:赋值'value_null',np.nan:直接转str，其它的异常情况暂不考虑，需要根据数据进行针对性处理，加了异常处理后，500行数据的速度下降了200us\r\n",
        "    if data_x[i]:\r\n",
        "      value_array.push_back(str.encode(str(data_x[i])))   #不知道这样转是否合适，但是没查到其它的办法\r\n",
        "    else:\r\n",
        "      value_array.push_back(b'value_null')\r\n",
        "\r\n",
        "    key=value_array[i]\r\n",
        "    value_y=data_y[i]\r\n",
        "    if m_value.count(key):\r\n",
        "      m_value[key] += value_y\r\n",
        "      m_count[key] += 1\r\n",
        "    else:\r\n",
        "      m_value[key] = value_y\r\n",
        "      m_count[key] = 1\r\n",
        "  for i from start <= i < shape by step:  \r\n",
        "    result_c[i]=(m_value[value_array[i]] - data_y[i]) / (m_count[value_array[i]] - 1)\r\n",
        "  return result_c\r\n",
        "\r\n"
      ],
      "execution_count": 58,
      "outputs": []
    },
    {
      "cell_type": "code",
      "metadata": {
        "id": "XwUgi0_NIV4n"
      },
      "source": [
        "import time\r\n",
        "def main():\r\n",
        "  y = np.random.randint(2, size=(500, 1))\r\n",
        "  x = np.random.randint(10, size=(500, 1))\r\n",
        "  data = pd.DataFrame(np.concatenate([y, x], axis=1), columns=['y', 'x'])\r\n",
        "  \r\n",
        "  t1=time.time()\r\n",
        "  result_1 = target_mean_v2(data, 'y', 'x')\r\n",
        "  t2=time.time()\r\n",
        "  result_2 = target_mean_v7(data, 0, 1)\r\n",
        "  t3=time.time()\r\n",
        "  result_3 = target_mean_v8(data, 0, 1)\r\n",
        "  t4=time.time()\r\n",
        "  result_4 = target_mean_v9(data, 0, 1)\r\n",
        "  t5=time.time()\r\n",
        "\r\n",
        "  diff7 = np.linalg.norm(result_1 - result_2)\r\n",
        "  diff8 = np.linalg.norm(result_1 - result_3)\r\n",
        "  diff9 = np.linalg.norm(result_1 - result_4)\r\n",
        "  print('V2：不做异常处理，不并行：the executed time is:{}'.format(round(t2-t1,6)))\r\n",
        "  print('V7：不做异常处理，不并行：the executed time is:{}, diff:{}'.format(round((t3-t2),6),diff7))\r\n",
        "  print('V8：不做异常处理，  并行：the executed time is:{}, diff:{}'.format(round((t4-t3),6),diff8))\r\n",
        "  print('V9：进行异常处理，不并行：the executed time is:{}, diff:{}'.format(round((t5-t4),6),diff9))\r\n",
        "  "
      ],
      "execution_count": 7,
      "outputs": []
    },
    {
      "cell_type": "code",
      "metadata": {
        "colab": {
          "base_uri": "https://localhost:8080/"
        },
        "id": "4fL-R7b-IV7o",
        "outputId": "7c75fdcc-7daa-41f7-9e67-d7838b7995b8"
      },
      "source": [
        "if __name__ == '__main__':\r\n",
        "    main()\r\n"
      ],
      "execution_count": 47,
      "outputs": [
        {
          "output_type": "stream",
          "text": [
            "V2：不做异常处理，不并行：the executed time is:0.031983\n",
            "V7：不做异常处理，不并行：the executed time is:0.000133, diff:3.336299622452143e-07\n",
            "V8：不做异常处理，  并行：the executed time is:9.7e-05, diff:0.0\n",
            "V9：进行异常处理，不并行：the executed time is:0.001629, diff:3.336299622452143e-07\n"
          ],
          "name": "stdout"
        }
      ]
    },
    {
      "cell_type": "code",
      "metadata": {
        "id": "1zD8RwLrTqIf"
      },
      "source": [
        "  y = np.random.randint(2, size=(500, 1))\r\n",
        "  x = np.random.randint(10, size=(500, 1))\r\n",
        "  data = pd.DataFrame(np.concatenate([y, x], axis=1), columns=['y', 'x'])"
      ],
      "execution_count": 51,
      "outputs": []
    },
    {
      "cell_type": "code",
      "metadata": {
        "colab": {
          "base_uri": "https://localhost:8080/"
        },
        "id": "AiLYXte6Jq0K",
        "outputId": "59c2e975-31f1-482e-b8a1-48a50f035720"
      },
      "source": [
        "%%timeit\r\n",
        "#原始版本\r\n",
        "target_mean_v1(data, 'y', 'x')"
      ],
      "execution_count": 21,
      "outputs": [
        {
          "output_type": "stream",
          "text": [
            "1 loop, best of 3: 2.41 s per loop\n"
          ],
          "name": "stdout"
        }
      ]
    },
    {
      "cell_type": "code",
      "metadata": {
        "colab": {
          "base_uri": "https://localhost:8080/"
        },
        "id": "LeXnlVNwIWA_",
        "outputId": "db38bf44-105c-4924-d199-d37157913bc9"
      },
      "source": [
        "%%timeit\r\n",
        "#作业中原代码执行时长\r\n",
        "target_mean_v2(data, 'y', 'x')"
      ],
      "execution_count": 10,
      "outputs": [
        {
          "output_type": "stream",
          "text": [
            "10 loops, best of 3: 26.8 ms per loop\n"
          ],
          "name": "stdout"
        }
      ]
    },
    {
      "cell_type": "code",
      "metadata": {
        "colab": {
          "base_uri": "https://localhost:8080/"
        },
        "id": "IxpCdmaVIWEB",
        "outputId": "b2da7190-76cf-42d8-fc6f-67cae2b339d9"
      },
      "source": [
        "%%timeit\r\n",
        "#默认所有值合法，不进行异常值处理，不并行\r\n",
        "target_mean_v7(data,0, 1)"
      ],
      "execution_count": 11,
      "outputs": [
        {
          "output_type": "stream",
          "text": [
            "The slowest run took 4.52 times longer than the fastest. This could mean that an intermediate result is being cached.\n",
            "10000 loops, best of 3: 37.7 µs per loop\n"
          ],
          "name": "stdout"
        }
      ]
    },
    {
      "cell_type": "code",
      "metadata": {
        "colab": {
          "base_uri": "https://localhost:8080/"
        },
        "id": "sObXuRMAIWG9",
        "outputId": "9d2199fc-3eac-4050-8d90-7686a23ffc30"
      },
      "source": [
        "%%timeit\r\n",
        "#默认所有值合法，不进行异常值处理，并行\r\n",
        "target_mean_v8(data,0, 1)"
      ],
      "execution_count": 56,
      "outputs": [
        {
          "output_type": "stream",
          "text": [
            "The slowest run took 22.24 times longer than the fastest. This could mean that an intermediate result is being cached.\n",
            "10000 loops, best of 3: 27.7 µs per loop\n"
          ],
          "name": "stdout"
        }
      ]
    },
    {
      "cell_type": "code",
      "metadata": {
        "colab": {
          "base_uri": "https://localhost:8080/"
        },
        "id": "u_2ZwdV-I4HS",
        "outputId": "628b31af-2b4d-4bf4-c7cb-045bf77d2af7"
      },
      "source": [
        "%%timeit\r\n",
        "#进行多项异常检测和转换\r\n",
        "target_mean_v9(data,0, 1)"
      ],
      "execution_count": 49,
      "outputs": [
        {
          "output_type": "stream",
          "text": [
            "1000 loops, best of 3: 477 µs per loop\n"
          ],
          "name": "stdout"
        }
      ]
    },
    {
      "cell_type": "code",
      "metadata": {
        "id": "H9XjGw3hVkOo"
      },
      "source": [
        ""
      ],
      "execution_count": null,
      "outputs": []
    }
  ]
}